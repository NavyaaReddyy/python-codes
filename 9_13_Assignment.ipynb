{
  "nbformat": 4,
  "nbformat_minor": 0,
  "metadata": {
    "colab": {
      "provenance": []
    },
    "kernelspec": {
      "name": "python3",
      "display_name": "Python 3"
    },
    "language_info": {
      "name": "python"
    }
  },
  "cells": [
    {
      "cell_type": "code",
      "execution_count": 4,
      "metadata": {
        "colab": {
          "base_uri": "https://localhost:8080/"
        },
        "id": "Cjw-8mEPexTL",
        "outputId": "b0b81234-b005-4a83-9e4b-92ec16296176"
      },
      "outputs": [
        {
          "output_type": "stream",
          "name": "stdout",
          "text": [
            "How many No. grades you would love to input ?3\n",
            "Enter grade 1: 9\n",
            "Enter grade 2: 8\n",
            "Enter grade 3: 7\n",
            "Average Grade of no. of Grades Entered: 8.00\n",
            "\n",
            "How many No. grades you would love to input ?-1\n",
            "Exit Program\n"
          ]
        }
      ],
      "source": [
        "# Pinnapureddy Navya code\n",
        "import statistics\n",
        "def navya_grades():\n",
        "    while True:\n",
        "        number_of_grades = int(input(\"How many No. grades you would love to input ?\"))\n",
        "        if number_of_grades == -1:\n",
        "            print(\"Exit Program\")\n",
        "            break\n",
        "        grades = [float(input(f\"Enter grade {i+1}: \")) for i in range(number_of_grades)]\n",
        "        if grades:\n",
        "            print(f\"Average Grade of no. of Grades Entered: {sum(grades)/len(grades):.2f}\\n\")\n",
        "\n",
        "navya_grades()\n"
      ]
    }
  ]
}